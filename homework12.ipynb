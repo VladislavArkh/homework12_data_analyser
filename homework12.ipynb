{
 "cells": [
  {
   "cell_type": "code",
   "execution_count": null,
   "metadata": {},
   "outputs": [],
   "source": [
    "import pandas as pd\n",
    "%matplotlib inline\n",
    "import seaborn as sns\n",
    "import matplotlib.pyplot as plt\n",
    "%config InlineBackend.figure_format = 'svg' \n",
    "sns.set(style=\"darkgrid\")\n",
    "from pylab import rcParams"
   ]
  },
  {
   "cell_type": "code",
   "execution_count": null,
   "metadata": {},
   "outputs": [],
   "source": [
    "for year in range(1966, 2023):\n",
    "    tmp_df = data.groupby([\"year\"]).aggregate(\"sum\")\n",
    "tmp_df\n",
    "rcParams['figure.figsize'] =30, 4\n",
    "sns.lineplot(x=\"year\", y=\"Potentially Affected\",data=tmp_df)"
   ]
  },
  {
   "cell_type": "code",
   "execution_count": null,
   "metadata": {},
   "outputs": [],
   "source": [
    "rcParams['figure.figsize'] =10, 4\n",
    "tmp_df = data.groupby([\"Manufacturer\"],as_index=False).aggregate(\"sum\")\n",
    "top_10_mark_recals = tmp_df.sort_values(by='Potentially Affected', ascending=False).head(10)\n",
    "top_10_mark_recals.plot(kind='bar', x=\"Manufacturer\", rot=75, color='green')"
   ]
  },
  {
   "cell_type": "code",
   "execution_count": null,
   "metadata": {},
   "outputs": [],
   "source": [
    "top5_man = list(top_10_mark_recals.head(5)['Manufacturer'])\n",
    "all_manufact_in_all_years = data.groupby([\"Manufacturer\", \"year\"],as_index=False).aggregate(\"sum\")\n",
    "all_manufact_in_all_years = all_manufact_in_all_years.sort_values(by='Potentially Affected', ascending=False)\n",
    "all_manufact_in_all_years = all_manufact_in_all_years.loc[all_manufact_in_all_years['Manufacturer'].isin(top5_man)]\n",
    "all_manufact_in_all_years"
   ]
  },
  {
   "cell_type": "code",
   "execution_count": null,
   "metadata": {},
   "outputs": [],
   "source": [
    "rcParams['figure.figsize'] =30, 4\n",
    "sns.barplot(x=\"year\", y=\"Potentially Affected\", hue=\"Manufacturer\", data=all_manufact_in_all_years)"
   ]
  },
  {
   "cell_type": "code",
   "execution_count": null,
   "metadata": {},
   "outputs": [],
   "source": [
    "electrical_errors = data.loc[data['Component'] == 'ELECTRICAL SYSTEM']\n",
    "electrical_errors_by_years = electrical_errors.groupby([\"year\"],as_index=False).aggregate(\"sum\")\n",
    "electrical_errors_by_years\n",
    "sns.lineplot(x=\"year\", y=\"Potentially Affected\",data=electrical_errors_by_years)"
   ]
  },
  {
   "cell_type": "code",
   "execution_count": null,
   "metadata": {},
   "outputs": [],
   "source": [
    "breakes_errors = data.loc[data[\"Component\"].str.contains('BRAKES')]\n",
    "breakes_errors_by_years = breakes_errors.groupby([\"year\"],as_index=False).aggregate(\"sum\")\n",
    "sns.lineplot(x=\"year\", y=\"Potentially Affected\",data=breakes_errors_by_years)"
   ]
  },
  {
   "cell_type": "code",
   "execution_count": null,
   "metadata": {},
   "outputs": [],
   "source": [
    "rcParams['figure.figsize'] =10, 4\n",
    "breakes_errors_by_man = breakes_errors.groupby([\"Manufacturer\"],as_index=False).aggregate(\"sum\").sort_values(by='Potentially Affected', ascending=False)\n",
    "breakes_errors_by_man.head(20).plot(kind='bar', x=\"Manufacturer\", rot=75, color='green')"
   ]
  },
  {
   "cell_type": "code",
   "execution_count": null,
   "metadata": {},
   "outputs": [],
   "source": [
    "rcParams['figure.figsize'] = 10, 4\n",
    "dealers_repair = data.loc[data[\"Corrective Action\"].str.contains('Dealers',na=False)]\n",
    "breakes_errors_by_man = dealers_repair.groupby([\"Manufacturer\"],as_index=False).aggregate(\"sum\").sort_values(by='Potentially Affected', ascending=False)\n",
    "breakes_errors_by_man.head(20).plot(kind='bar', x=\"Manufacturer\", rot=75, color='green')"
   ]
  }
 ],
 "metadata": {
  "language_info": {
   "name": "python"
  }
 },
 "nbformat": 4,
 "nbformat_minor": 2
}
